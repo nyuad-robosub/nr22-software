{
 "cells": [
  {
   "cell_type": "markdown",
   "metadata": {},
   "source": []
  },
  {
   "cell_type": "code",
   "execution_count": 372,
   "metadata": {},
   "outputs": [
    {
     "name": "stdout",
     "output_type": "stream",
     "text": [
      "Defaulting to user installation because normal site-packages is not writeable\n",
      "Requirement already satisfied: opencv-python in /Users/nasheed-x/Library/Python/3.8/lib/python/site-packages (4.6.0.66)\n",
      "Requirement already satisfied: numpy>=1.14.5 in /Users/nasheed-x/Library/Python/3.8/lib/python/site-packages (from opencv-python) (1.23.0)\n",
      "Note: you may need to restart the kernel to use updated packages.\n",
      "Defaulting to user installation because normal site-packages is not writeable\n",
      "Requirement already satisfied: matplotlib in /Users/nasheed-x/Library/Python/3.8/lib/python/site-packages (3.5.2)\n",
      "Requirement already satisfied: packaging>=20.0 in /Users/nasheed-x/Library/Python/3.8/lib/python/site-packages (from matplotlib) (21.3)\n",
      "Requirement already satisfied: pyparsing>=2.2.1 in /Users/nasheed-x/Library/Python/3.8/lib/python/site-packages (from matplotlib) (3.0.9)\n",
      "Requirement already satisfied: kiwisolver>=1.0.1 in /Users/nasheed-x/Library/Python/3.8/lib/python/site-packages (from matplotlib) (1.4.3)\n",
      "Requirement already satisfied: pillow>=6.2.0 in /Users/nasheed-x/Library/Python/3.8/lib/python/site-packages (from matplotlib) (9.2.0)\n",
      "Requirement already satisfied: python-dateutil>=2.7 in /Users/nasheed-x/Library/Python/3.8/lib/python/site-packages (from matplotlib) (2.8.2)\n",
      "Requirement already satisfied: cycler>=0.10 in /Users/nasheed-x/Library/Python/3.8/lib/python/site-packages (from matplotlib) (0.11.0)\n",
      "Requirement already satisfied: fonttools>=4.22.0 in /Users/nasheed-x/Library/Python/3.8/lib/python/site-packages (from matplotlib) (4.33.3)\n",
      "Requirement already satisfied: numpy>=1.17 in /Users/nasheed-x/Library/Python/3.8/lib/python/site-packages (from matplotlib) (1.23.0)\n",
      "Requirement already satisfied: six>=1.5 in /Applications/Xcode.app/Contents/Developer/Library/Frameworks/Python3.framework/Versions/3.8/lib/python3.8/site-packages (from python-dateutil>=2.7->matplotlib) (1.15.0)\n",
      "Note: you may need to restart the kernel to use updated packages.\n"
     ]
    }
   ],
   "source": [
    "\"\"\"\n",
    "Import OpenCV & NumPy\n",
    "\"\"\"\n",
    "%pip install opencv-python\n",
    "%pip install matplotlib\n",
    "\n",
    "\n",
    "import cv2\n",
    "import matplotlib.pyplot as plt\n",
    "import numpy as np\n",
    "from math import atan2, cos, sin, sqrt, pi\n"
   ]
  },
  {
   "cell_type": "code",
   "execution_count": 373,
   "metadata": {},
   "outputs": [],
   "source": [
    "# drawAxis function definition\n",
    "def drawAxis(img, p_, q_, color, scale):\n",
    "  p = list(p_)\n",
    "  q = list(q_)\n",
    " \n",
    "  ## [visualization1]\n",
    "  angle = atan2(p[1] - q[1], p[0] - q[0]) # angle in radians\n",
    "  hypotenuse = sqrt((p[1] - q[1]) * (p[1] - q[1]) + (p[0] - q[0]) * (p[0] - q[0]))\n",
    " \n",
    "  # Here we lengthen the arrow by a factor of scale\n",
    "  q[0] = p[0] - scale * hypotenuse * cos(angle)\n",
    "  q[1] = p[1] - scale * hypotenuse * sin(angle)\n",
    "  cv2.line(img, (int(p[0]), int(p[1])), (int(q[0]), int(q[1])), color, 3, cv2.LINE_AA)\n",
    " \n",
    "  # create the arrow hooks\n",
    "  p[0] = q[0] + 9 * cos(angle + pi / 4)\n",
    "  p[1] = q[1] + 9 * sin(angle + pi / 4)\n",
    "  cv2.line(img, (int(p[0]), int(p[1])), (int(q[0]), int(q[1])), color, 3, cv2.LINE_AA)\n",
    " \n",
    "  p[0] = q[0] + 9 * cos(angle - pi / 4)\n",
    "  p[1] = q[1] + 9 * sin(angle - pi / 4)\n",
    "  cv2.line(img, (int(p[0]), int(p[1])), (int(q[0]), int(q[1])), color, 3, cv2.LINE_AA)\n",
    "  ## [visualization1]\n",
    "\n",
    "# getOrientation function definition\n",
    "def getOrientation(pts, img):\n",
    "  ## [pca]\n",
    "  # Construct a buffer used by the pca analysis\n",
    "  sz = len(pts)\n",
    "  data_pts = np.empty((sz, 2), dtype=np.float64)\n",
    "  for i in range(data_pts.shape[0]):\n",
    "    data_pts[i,0] = pts[i,0,0]\n",
    "    data_pts[i,1] = pts[i,0,1]\n",
    " \n",
    "  # perform PCA analysis\n",
    "  mean = np.empty((0))\n",
    "  mean, eigenvectors, eigenvalues = cv2.PCACompute2(data_pts, mean)\n",
    " \n",
    "  # store the center of the object\n",
    "  cntr = (int(mean[0,0]), int(mean[0,1]))\n",
    "  ## [pca]\n",
    " \n",
    "  ## [visualization]\n",
    "  # draw the principal components\n",
    "  cv2.circle(img, cntr, 3, (255, 0, 255), 2)\n",
    "  p1 = (cntr[0] + 0.02 * eigenvectors[0,0] * eigenvalues[0,0], cntr[1] + 0.02 * eigenvectors[0,1] * eigenvalues[0,0])\n",
    "  p2 = (cntr[0] - 0.02 * eigenvectors[1,0] * eigenvalues[1,0], cntr[1] - 0.02 * eigenvectors[1,1] * eigenvalues[1,0])\n",
    "  drawAxis(img, cntr, p1, (255, 255, 0), 1)\n",
    "  drawAxis(img, cntr, p2, (0, 0, 255), 5)\n",
    " \n",
    "  angle = atan2(eigenvectors[0,1], eigenvectors[0,0]) # orientation in radians\n",
    "  ## [visualization]\n",
    " \n",
    "  # label with the rotation angle\n",
    "  label = \"  Rotation Angle: \" + str(-int(np.rad2deg(angle)) - 90) + \" degrees\"\n",
    "  textbox = cv2.rectangle(img, (cntr[0], cntr[1]-25), (cntr[0] + 250, cntr[1] + 10), (255,255,255), -1)\n",
    "  cv2.putText(img, label, (cntr[0], cntr[1]), cv2.FONT_HERSHEY_SIMPLEX, 0.5, (0,0,0), 1, cv2.LINE_AA)\n",
    " \n",
    "  return angle"
   ]
  },
  {
   "cell_type": "code",
   "execution_count": 374,
   "metadata": {},
   "outputs": [
    {
     "data": {
      "text/plain": [
       "<matplotlib.image.AxesImage at 0x1626093a0>"
      ]
     },
     "execution_count": 374,
     "metadata": {},
     "output_type": "execute_result"
    },
    {
     "data": {
      "image/png": "[encoded data removed]",
      "text/plain": [
       "<Figure size 432x288 with 1 Axes>"
      ]
     },
     "metadata": {
      "needs_background": "light"
     },
     "output_type": "display_data"
    }
   ],
   "source": [
    "# load image\n",
    "img = cv2.imread(\"/Users/nasheed-x/Desktop/Orientation/orange3.jpeg\")\n",
    "\n",
    "#cv2.imshow(\"Image\",img)\n",
    "plt.imshow(img)"
   ]
  },
  {
   "cell_type": "code",
   "execution_count": 375,
   "metadata": {},
   "outputs": [
    {
     "data": {
      "text/plain": [
       "<matplotlib.image.AxesImage at 0x16265b850>"
      ]
     },
     "execution_count": 375,
     "metadata": {},
     "output_type": "execute_result"
    },
    {
     "data": {
      "image/png": "[encoded data removed]",
      "text/plain": [
       "<Figure size 432x288 with 1 Axes>"
      ]
     },
     "metadata": {
      "needs_background": "light"
     },
     "output_type": "display_data"
    }
   ],
   "source": [
    "#convert to hsv\n",
    "hsv = cv2.cvtColor(img, cv2.COLOR_BGR2HSV)\n",
    "\n",
    "# lower bound and upper bound for orange color\n",
    "lower_bound = np.array([5,50,50])\n",
    "upper_bound = np.array([15,255,255])\n",
    "\n",
    "#find color within the boundaries\n",
    "mask = cv2.inRange(hsv, lower_bound, upper_bound)\n",
    "\n",
    "#define kernel size  \n",
    "kernel = np.ones((9,9),np.uint8)\n",
    "\n",
    "# remove unnecessary noise from mask\n",
    "mask = cv2.morphologyEx(mask, cv2.MORPH_CLOSE, kernel)\n",
    "mask = cv2.morphologyEx(mask, cv2.MORPH_OPEN, kernel)\n",
    "\n",
    "plt.imshow(mask)"
   ]
  },
  {
   "cell_type": "code",
   "execution_count": 376,
   "metadata": {},
   "outputs": [],
   "source": [
    "#create canvas\n",
    "canvas = np.zeros(img.shape)\n",
    "canvas.fill(0)"
   ]
  },
  {
   "cell_type": "code",
   "execution_count": 377,
   "metadata": {},
   "outputs": [
    {
     "name": "stderr",
     "output_type": "stream",
     "text": [
      "Clipping input data to the valid range for imshow with RGB data ([0..1] for floats or [0..255] for integers).\n"
     ]
    },
    {
     "data": {
      "text/plain": [
       "True"
      ]
     },
     "execution_count": 377,
     "metadata": {},
     "output_type": "execute_result"
    },
    {
     "data": {
      "image/png": "[encoded data removed]",
      "text/plain": [
       "<Figure size 432x288 with 1 Axes>"
      ]
     },
     "metadata": {
      "needs_background": "light"
     },
     "output_type": "display_data"
    }
   ],
   "source": [
    "#create segmented image\n",
    "segmented_img = cv2.bitwise_and(canvas, canvas, mask=mask)\n",
    "\n",
    "# find contours from the mask\n",
    "contours, hierarchy = cv2.findContours(mask, cv2.RETR_EXTERNAL, cv2.CHAIN_APPROX_SIMPLE)\n",
    "cont_output = cv2.drawContours(segmented_img, contours, -1, (0, 255, 0), 3)\n",
    "\n",
    "plt.imshow(cont_output)\n",
    "cv2.imwrite(\"cont_output.jpeg\", cont_output)"
   ]
  },
  {
   "cell_type": "code",
   "execution_count": 378,
   "metadata": {},
   "outputs": [
    {
     "name": "stderr",
     "output_type": "stream",
     "text": [
      "Clipping input data to the valid range for imshow with RGB data ([0..1] for floats or [0..255] for integers).\n"
     ]
    },
    {
     "data": {
      "text/plain": [
       "True"
      ]
     },
     "execution_count": 378,
     "metadata": {},
     "output_type": "execute_result"
    },
    {
     "data": {
      "image/png": "[encoded data removed]",
      "text/plain": [
       "<Figure size 432x288 with 1 Axes>"
      ]
     },
     "metadata": {
      "needs_background": "light"
     },
     "output_type": "display_data"
    }
   ],
   "source": [
    "# get minAreaRect of contour with max area\n",
    "max_area = -1\n",
    "\n",
    "#loop through contours\n",
    "for i in range(len(contours)):\n",
    "    area = cv2.contourArea(contours[i])\n",
    "    if area>max_area:\n",
    "            cnt = contours[i]\n",
    "            max_area = area\n",
    "\n",
    "areas = [cv2.contourArea(c) for c in contours]\n",
    "max_index = np.argmax(areas)\n",
    "cnt=contours[max_index]\n",
    "\n",
    "#assign minAreaRect to contour with max area\n",
    "rect = cv2.minAreaRect(cnt)\n",
    "box = cv2.boxPoints(rect)\n",
    "box = np.int0(box)\n",
    "\n",
    "#draw minAreaRect\n",
    "cv2.drawContours(canvas,[box],0,(255, 0,0),2)\n",
    "plt.imshow(canvas)\n",
    "cv2.imwrite(\"cont_canvas.jpg\", canvas)\n"
   ]
  },
  {
   "cell_type": "code",
   "execution_count": 379,
   "metadata": {},
   "outputs": [
    {
     "name": "stdout",
     "output_type": "stream",
     "text": [
      "((454.4833679199219, 592.2496948242188), (1109.0452880859375, 159.931884765625), 80.4186019897461)\n"
     ]
    }
   ],
   "source": [
    "print(rect)"
   ]
  },
  {
   "cell_type": "code",
   "execution_count": null,
   "metadata": {},
   "outputs": [],
   "source": [
    "\"\"\"\n",
    "Using minRectArea to get Angle\n",
    "\"\"\"\n",
    "\n",
    "#center coordinates of min_rectangle also p1\n",
    "x = int(rect[0][0])\n",
    "y = int(rect[0][1])\n",
    "\n",
    "l = -300\n",
    "\n",
    "#angle of min_rectangle\n",
    "angle = rect[2] * 3.14 / 180\n",
    "\n",
    "#get p2 based on angle\n",
    "x_ = x + l * cos(angle)\n",
    "y_ = y + l * sin(angle)\n",
    "\n",
    "#get p3 based on angle\n",
    "x1_ = x + l * cos(3.14)\n",
    "y1_ = y + l * sin(3.14)\n",
    "\n",
    "#define line points as int\n",
    "p1 = (x,y)\n",
    "p2 = (int(x_),int(y_))\n",
    "p3 = (int(x1_),int(y1_))\n",
    "\n",
    "#draw lines and circle\n",
    "canvas = cv2.circle(canvas, (x,y), 20, (147,20,255), -5)\n",
    "canvas = cv2.line(canvas, p1, p2, (0, 0, 255), 5)\n",
    "canvas = cv2.line(canvas, p1, p3, (0, 0, 255), 5)\n",
    "\n",
    "plt.imshow(canvas)\n",
    "cv2.imwrite(\"fin_canvas.jpg\", canvas)"
   ]
  },
  {
   "cell_type": "code",
   "execution_count": 383,
   "metadata": {},
   "outputs": [
    {
     "name": "stderr",
     "output_type": "stream",
     "text": [
      "Clipping input data to the valid range for imshow with RGB data ([0..1] for floats or [0..255] for integers).\n"
     ]
    },
    {
     "data": {
      "text/plain": [
       "True"
      ]
     },
     "execution_count": 383,
     "metadata": {},
     "output_type": "execute_result"
    },
    {
     "data": {
      "image/png": "[encoded data removed]",
      "text/plain": [
       "<Figure size 432x288 with 1 Axes>"
      ]
     },
     "metadata": {
      "needs_background": "light"
     },
     "output_type": "display_data"
    }
   ],
   "source": [
    "\"\"\"\n",
    "Using getOrientation Function to Angle\n",
    "\"\"\"\n",
    "\n",
    "angle = getOrientation(cnt, canvas)\n",
    "plt.imshow(canvas)\n",
    "cv2.imwrite(\"fin_canvas.jpg\", canvas)"
   ]
  }
 ],
 "metadata": {
  "kernelspec": {
   "display_name": "Python 3.8.9 64-bit",
   "language": "python",
   "name": "python3"
  },
  "language_info": {
   "codemirror_mode": {
    "name": "ipython",
    "version": 3
   },
   "file_extension": ".py",
   "mimetype": "text/x-python",
   "name": "python",
   "nbconvert_exporter": "python",
   "pygments_lexer": "ipython3",
   "version": "3.8.9"
  },
  "orig_nbformat": 4,
  "vscode": {
   "interpreter": {
    "hash": "31f2aee4e71d21fbe5cf8b01ff0e069b9275f58929596ceb00d14d90e3e16cd6"
   }
  }
 },
 "nbformat": 4,
 "nbformat_minor": 2
}
