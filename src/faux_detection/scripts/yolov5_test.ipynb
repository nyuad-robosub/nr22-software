{
 "cells": [
  {
   "cell_type": "code",
   "execution_count": 1,
   "metadata": {},
   "outputs": [],
   "source": [
    "# Relevant paths\n",
    "yolov5_path = \"../../../include/yolov5\"\n",
    "weights_path = \"../trained_models/yolov5-aug1st/best.pt\""
   ]
  },
  {
   "cell_type": "code",
   "execution_count": null,
   "metadata": {},
   "outputs": [],
   "source": [
    "# Load custom checkpoint courtesy of:\n",
    "# https://github.com/ultralytics/yolov5/discussions/5872#discussioncomment-2592644\n",
    "import torch\n",
    "model = torch.hub.load(yolov5_path, 'custom', path=weights_path, source='local') "
   ]
  },
  {
   "cell_type": "code",
   "execution_count": 11,
   "metadata": {},
   "outputs": [
    {
     "name": "stdout",
     "output_type": "stream",
     "text": [
      "<PIL.JpegImagePlugin.JpegImageFile image mode=RGB size=480x270 at 0x7F99DC468B50>\n"
     ]
    }
   ],
   "source": [
    "from PIL import Image\n",
    "print(str(Image.open('testing/1.jpg')))"
   ]
  },
  {
   "cell_type": "code",
   "execution_count": null,
   "metadata": {},
   "outputs": [],
   "source": [
    "# Image\n",
    "for i in range(1, 9):\n",
    "    img = f\"testing/{i}.jpg\"\n",
    "    # Inference\n",
    "    results = model(img)\n",
    "    # Results, change the flowing to: results.show()\n",
    "    results.show()  # or .show(), .save(), .crop(), .pandas(), etc\n",
    "    print(results.pandas().xyxy[0])"
   ]
  }
 ],
 "metadata": {
  "kernelspec": {
   "display_name": "Python 3.7.16 ('py3torch')",
   "language": "python",
   "name": "python3"
  },
  "language_info": {
   "codemirror_mode": {
    "name": "ipython",
    "version": 3
   },
   "file_extension": ".py",
   "mimetype": "text/x-python",
   "name": "python",
   "nbconvert_exporter": "python",
   "pygments_lexer": "ipython3",
   "version": "3.7.16"
  },
  "orig_nbformat": 4,
  "vscode": {
   "interpreter": {
    "hash": "b306308247661df31ffc3fb06e8a9f0d73b89277aa4bddaa46834f985a9c5310"
   }
  }
 },
 "nbformat": 4,
 "nbformat_minor": 2
}
